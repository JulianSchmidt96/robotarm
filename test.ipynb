{
 "cells": [
  {
   "cell_type": "code",
   "execution_count": 1,
   "metadata": {},
   "outputs": [],
   "source": [
    "\n",
    "import numpy as np\n",
    "from services.gameManager import GameManager\n",
    "from models.game import Game\n",
    "\n"
   ]
  },
  {
   "cell_type": "code",
   "execution_count": 2,
   "metadata": {},
   "outputs": [
    {
     "data": {
      "text/plain": [
       "0"
      ]
     },
     "execution_count": 2,
     "metadata": {},
     "output_type": "execute_result"
    }
   ],
   "source": [
    "\n"
   ]
  },
  {
   "cell_type": "code",
   "execution_count": 3,
   "metadata": {},
   "outputs": [],
   "source": [
    "gamemanager = GameManager(game)"
   ]
  },
  {
   "cell_type": "code",
   "execution_count": 4,
   "metadata": {},
   "outputs": [
    {
     "name": "stdout",
     "output_type": "stream",
     "text": [
      "/home/schmijul/source/repos/robotarm\n"
     ]
    }
   ],
   "source": [
    "!pwd"
   ]
  },
  {
   "cell_type": "code",
   "execution_count": 5,
   "metadata": {},
   "outputs": [],
   "source": [
    "import moves"
   ]
  },
  {
   "cell_type": "code",
   "execution_count": 6,
   "metadata": {},
   "outputs": [
    {
     "data": {
      "text/plain": [
       "{(0, 0): array([0, 2, 2, 2, 2, 2, 2, 2, 2]),\n",
       " (0, 1): array([2, 0, 2, 2, 2, 2, 2, 2, 2]),\n",
       " (0, 2): array([2, 2, 0, 2, 2, 2, 2, 2, 2]),\n",
       " (1, 0): array([2, 2, 2, 0, 2, 2, 2, 2, 2]),\n",
       " (1, 1): array([2, 2, 2, 2, 0, 2, 2, 2, 2]),\n",
       " (1, 2): array([2, 2, 2, 2, 2, 0, 2, 2, 2]),\n",
       " (2, 0): array([2, 2, 2, 2, 2, 2, 0, 2, 2]),\n",
       " (2, 1): array([2, 2, 2, 2, 2, 2, 2, 0, 2]),\n",
       " (2, 2): array([2, 2, 2, 2, 2, 2, 2, 2, 0])}"
      ]
     },
     "execution_count": 6,
     "metadata": {},
     "output_type": "execute_result"
    }
   ],
   "source": [
    "moves.legal_moves_generator(game.board, game.turn)"
   ]
  },
  {
   "cell_type": "code",
   "execution_count": 7,
   "metadata": {},
   "outputs": [
    {
     "name": "stderr",
     "output_type": "stream",
     "text": [
      "2022-08-05 23:07:57.388440: W tensorflow/stream_executor/platform/default/dso_loader.cc:64] Could not load dynamic library 'libcudart.so.11.0'; dlerror: libcudart.so.11.0: cannot open shared object file: No such file or directory\n",
      "2022-08-05 23:07:57.388465: I tensorflow/stream_executor/cuda/cudart_stub.cc:29] Ignore above cudart dlerror if you do not have a GPU set up on your machine.\n"
     ]
    }
   ],
   "source": [
    "import dlmodel as dlm"
   ]
  },
  {
   "cell_type": "code",
   "execution_count": 11,
   "metadata": {},
   "outputs": [],
   "source": [
    "weak_mlp = dlm.build_model(10)\n",
    "strong_mlp = dlm.build_model(100)"
   ]
  },
  {
   "cell_type": "code",
   "execution_count": 14,
   "metadata": {},
   "outputs": [],
   "source": [
    "import training as t"
   ]
  },
  {
   "cell_type": "code",
   "execution_count": 15,
   "metadata": {},
   "outputs": [
    {
     "data": {
      "text/plain": [
       "0"
      ]
     },
     "execution_count": 15,
     "metadata": {},
     "output_type": "execute_result"
    }
   ],
   "source": [
    "\n"
   ]
  },
  {
   "cell_type": "code",
   "execution_count": 16,
   "metadata": {},
   "outputs": [
    {
     "name": "stdout",
     "output_type": "stream",
     "text": [
      "1/1 [==============================] - 0s 68ms/step\n",
      "1/1 [==============================] - 0s 17ms/step\n",
      "1/1 [==============================] - 0s 20ms/step\n",
      "1/1 [==============================] - 0s 25ms/step\n",
      "1/1 [==============================] - 0s 30ms/step\n",
      "1/1 [==============================] - 0s 43ms/step\n",
      "1/1 [==============================] - 0s 26ms/step\n",
      "1/1 [==============================] - 0s 19ms/step\n",
      "1/1 [==============================] - 0s 19ms/step\n",
      "1/1 [==============================] - 0s 20ms/step\n",
      "1/1 [==============================] - 0s 17ms/step\n",
      "1/1 [==============================] - 0s 17ms/step\n",
      "1/1 [==============================] - 0s 16ms/step\n",
      "1/1 [==============================] - 0s 25ms/step\n",
      "1/1 [==============================] - 0s 19ms/step\n",
      "1/1 [==============================] - 0s 20ms/step\n",
      "1/1 [==============================] - 0s 19ms/step\n",
      "1/1 [==============================] - 0s 15ms/step\n",
      "1/1 [==============================] - 0s 21ms/step\n",
      "1/1 [==============================] - 0s 17ms/step\n",
      "[[0 0 0]\n",
      " [0 1 1]\n",
      " [0 1 1]]\n"
     ]
    },
    {
     "ename": "ValueError",
     "evalue": "need at least one array to concatenate",
     "output_type": "error",
     "traceback": [
      "\u001b[0;31m---------------------------------------------------------------------------\u001b[0m",
      "\u001b[0;31mValueError\u001b[0m                                Traceback (most recent call last)",
      "\u001b[1;32m/home/schmijul/source/repos/robotarm/test.ipynb Cell 11\u001b[0m in \u001b[0;36m<cell line: 2>\u001b[0;34m()\u001b[0m\n\u001b[1;32m      <a href='vscode-notebook-cell:/home/schmijul/source/repos/robotarm/test.ipynb#X14sZmlsZQ%3D%3D?line=0'>1</a>\u001b[0m weak_mlp \u001b[39m=\u001b[39m t\u001b[39m.\u001b[39mtrain(weak_mlp, game)[\u001b[39m0\u001b[39m]\n\u001b[0;32m----> <a href='vscode-notebook-cell:/home/schmijul/source/repos/robotarm/test.ipynb#X14sZmlsZQ%3D%3D?line=1'>2</a>\u001b[0m strong_mlp \u001b[39m=\u001b[39m t\u001b[39m.\u001b[39;49mtrain(weak_mlp, game)[\u001b[39m1\u001b[39m]\n",
      "File \u001b[0;32m~/source/repos/robotarm/training.py:91\u001b[0m, in \u001b[0;36mtrain\u001b[0;34m(model, game)\u001b[0m\n\u001b[1;32m     88\u001b[0m \u001b[39m# Correct the scores, assigning 1/0/-1 to the winning/drawn/losing final board state, \u001b[39;00m\n\u001b[1;32m     89\u001b[0m \u001b[39m# and assigning the other previous board states the score of their next board state\u001b[39;00m\n\u001b[1;32m     90\u001b[0m new_board_states_list\u001b[39m=\u001b[39m\u001b[39mtuple\u001b[39m(new_board_states_list)\n\u001b[0;32m---> 91\u001b[0m new_board_states_list\u001b[39m=\u001b[39mnp\u001b[39m.\u001b[39mvstack(new_board_states_list)\n\u001b[1;32m     92\u001b[0m \u001b[39mif\u001b[39;00m gamemanager\u001b[39m.\u001b[39mget_board_state()\u001b[39m==\u001b[39m\u001b[39m\"\u001b[39m\u001b[39mWon\u001b[39m\u001b[39m\"\u001b[39m \u001b[39mand\u001b[39;00m (\u001b[39m1\u001b[39m\u001b[39m-\u001b[39mgame\u001b[39m.\u001b[39mturn)\u001b[39m==\u001b[39m\u001b[39m1\u001b[39m: \n\u001b[1;32m     93\u001b[0m     corrected_scores_list\u001b[39m=\u001b[39mshift(scores_list,\u001b[39m-\u001b[39m\u001b[39m1\u001b[39m,cval\u001b[39m=\u001b[39m\u001b[39m1.0\u001b[39m)\n",
      "File \u001b[0;32m<__array_function__ internals>:5\u001b[0m, in \u001b[0;36mvstack\u001b[0;34m(*args, **kwargs)\u001b[0m\n",
      "File \u001b[0;32m~/.local/lib/python3.10/site-packages/numpy/core/shape_base.py:282\u001b[0m, in \u001b[0;36mvstack\u001b[0;34m(tup)\u001b[0m\n\u001b[1;32m    280\u001b[0m \u001b[39mif\u001b[39;00m \u001b[39mnot\u001b[39;00m \u001b[39misinstance\u001b[39m(arrs, \u001b[39mlist\u001b[39m):\n\u001b[1;32m    281\u001b[0m     arrs \u001b[39m=\u001b[39m [arrs]\n\u001b[0;32m--> 282\u001b[0m \u001b[39mreturn\u001b[39;00m _nx\u001b[39m.\u001b[39;49mconcatenate(arrs, \u001b[39m0\u001b[39;49m)\n",
      "File \u001b[0;32m<__array_function__ internals>:5\u001b[0m, in \u001b[0;36mconcatenate\u001b[0;34m(*args, **kwargs)\u001b[0m\n",
      "\u001b[0;31mValueError\u001b[0m: need at least one array to concatenate"
     ]
    }
   ],
   "source": [
    "\n",
    "game = Game()\n",
    "game.toss()\n",
    "weak_mlp = t.train(weak_mlp, game)[0]\n",
    "\n",
    "\n",
    "game = Game()\n",
    "game.toss()\n",
    "strong_mlp = t.train(weak_mlp, game)[1]"
   ]
  },
  {
   "cell_type": "code",
   "execution_count": null,
   "metadata": {},
   "outputs": [],
   "source": []
  }
 ],
 "metadata": {
  "kernelspec": {
   "display_name": "Python 3.10.4 64-bit",
   "language": "python",
   "name": "python3"
  },
  "language_info": {
   "codemirror_mode": {
    "name": "ipython",
    "version": 3
   },
   "file_extension": ".py",
   "mimetype": "text/x-python",
   "name": "python",
   "nbconvert_exporter": "python",
   "pygments_lexer": "ipython3",
   "version": "3.10.4"
  },
  "orig_nbformat": 4,
  "vscode": {
   "interpreter": {
    "hash": "97cc609b13305c559618ec78a438abc56230b9381f827f22d070313b9a1f3777"
   }
  }
 },
 "nbformat": 4,
 "nbformat_minor": 2
}
